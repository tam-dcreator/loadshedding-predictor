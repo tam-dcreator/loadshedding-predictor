{
 "cells": [
  {
   "cell_type": "markdown",
   "metadata": {},
   "source": [
    "This notebook processes raw electricity data to estimate load shedding stages. It performs the following steps:\n",
    "1. Load and clean the raw electricity data.\n",
    "2. Filter the data to start from a specific date.\n",
    "3. Apply rule-based functions to estimate load shedding stages.\n",
    "4. Save the processed data to a CSV file.\n"
   ]
  },
  {
   "cell_type": "code",
   "execution_count": 5,
   "metadata": {},
   "outputs": [
    {
     "name": "stderr",
     "output_type": "stream",
     "text": [
      "2025-02-16 08:05:11,786 - data_ingestion - INFO - CSV file read successfully from the path.\n"
     ]
    }
   ],
   "source": [
    "import pandas as pd\n",
    "from det_loadshedding import tune_threshold, estimate_loadshedding\n",
    "from data_ingestion import read_from_CSV\n",
    "\n",
    "# Import electricity data\n",
    "df = read_from_CSV(\"ESK15160.csv\")  # Ensure csv is in the same folder as notebook\n",
    "\n",
    "# process the column titles into appropriate formats and update the df \n",
    "new_list = []\n",
    "for col in df.columns:\n",
    "    new_list.append(col.lower().replace(\" \", \"_\"))\n",
    "\n",
    "df.columns = new_list\n",
    "\n",
    "# Create a new column for UNIX timestamps as they would be use as joining keys for the weather data\n",
    "df['date_time'] = pd.to_datetime(df['date_time'], format=\"%d/%m/%Y %H:%M\")\n",
    "# df['entry_id'] = df[\"date_time\"].apply(lambda x: int(x.timestamp()))\n",
    "\n",
    "# Entries into the db start from 01/01/2024. So we get the time stamp and filter the df by it\n",
    "timestamp = df[df[\"date_time\"] == \"01/01/2024 00:00\"][\"date_time\"].iloc[0]\n",
    "df = df[df[\"date_time\"] >= timestamp]\n",
    "\n",
    "# Reindex data\n",
    "df = df.reset_index(drop=True)\n",
    "\n",
    "# Apply the rule-based threshold function to the dataset\n",
    "df[\"load_shedding_threshold\"] = df[\"date_time\"].dt.hour.apply(tune_threshold)\n",
    "df[\"estimated_loadshedding\"] = df.apply(estimate_loadshedding, axis=1)\n",
    "\n",
    "# Select required columns and save data in a csv\n",
    "df = df[[\"date_time\", \"estimated_loadshedding\"]]\n",
    "df.to_csv(\"./loadshedding_pred.csv\", index=False)\n"
   ]
  }
 ],
 "metadata": {
  "kernelspec": {
   "display_name": "Jupyter_Books_Testing",
   "language": "python",
   "name": "python3"
  },
  "language_info": {
   "codemirror_mode": {
    "name": "ipython",
    "version": 3
   },
   "file_extension": ".py",
   "mimetype": "text/x-python",
   "name": "python",
   "nbconvert_exporter": "python",
   "pygments_lexer": "ipython3",
   "version": "3.11.9"
  }
 },
 "nbformat": 4,
 "nbformat_minor": 2
}
